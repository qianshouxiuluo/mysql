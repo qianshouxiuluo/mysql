{
 "cells": [
  {
   "cell_type": "markdown",
   "metadata": {},
   "source": [
    "# 对象和类\n",
    "- 一个学生，一张桌子，一个圆都是对象\n",
    "- 对象是类的一个实例，你可以创建多个对象，创建类的一个实例过程被称为实例化，\n",
    "- 在Python中对象就是实例，而实例就是对象"
   ]
  },
  {
   "cell_type": "code",
   "execution_count": null,
   "metadata": {},
   "outputs": [],
   "source": []
  },
  {
   "cell_type": "markdown",
   "metadata": {},
   "source": [
    "## 定义类\n",
    "class ClassName:\n",
    "\n",
    "    do something\n",
    "    \n",
    "- class 类的表示与def 一样\n",
    "- 类名最好使用驼峰式\n",
    "- 在Python2中类是需要继承基类object的，在Python中默认继承，可写可不写\n",
    "- 可以将普通代码理解为皮肤，而函数可以理解为内衣，那么类可以理解为外套"
   ]
  },
  {
   "cell_type": "markdown",
   "metadata": {},
   "source": [
    "## 定义一个不含初始化__init__的简单类\n",
    "class ClassName:\n",
    "\n",
    "    joker = “Home”\n",
    "    \n",
    "    def func():\n",
    "        print('Worker')\n",
    "    \n",
    "- 尽量少使用"
   ]
  },
  {
   "cell_type": "code",
   "execution_count": 14,
   "metadata": {},
   "outputs": [],
   "source": [
    "#类必须初始化，是用self，初始化自身\n",
    "#类里面所有的函数中的第一个变量不在是参数，而是一个印记 \n",
    "#在类中，如果有参数需要多次使用，那么就可以将其设置为共享参数\n",
    "class Joker:\n",
    "    def __init__(self,num1,num2):\n",
    "        print('我初始化了')\n",
    "        #参数共享\n",
    "        self.num1 = num1\n",
    "        self.num2 = num2\n",
    "    def SUM(self):\n",
    "        return self.num1 + self.num2\n",
    "    def cheng(self):\n",
    "        return self.num1 * self.num2\n",
    "    def __(self):\n",
    "        print ('Joker aaa')"
   ]
  },
  {
   "cell_type": "code",
   "execution_count": 15,
   "metadata": {
    "scrolled": true
   },
   "outputs": [
    {
     "ename": "TypeError",
     "evalue": "__init__() missing 2 required positional arguments: 'num1' and 'num2'",
     "output_type": "error",
     "traceback": [
      "\u001b[1;31m---------------------------------------------------------------------------\u001b[0m",
      "\u001b[1;31mTypeError\u001b[0m                                 Traceback (most recent call last)",
      "\u001b[1;32m<ipython-input-15-12611f31d836>\u001b[0m in \u001b[0;36m<module>\u001b[1;34m\u001b[0m\n\u001b[1;32m----> 1\u001b[1;33m \u001b[0mJoker\u001b[0m\u001b[1;33m(\u001b[0m\u001b[1;33m)\u001b[0m\u001b[1;33m\u001b[0m\u001b[1;33m\u001b[0m\u001b[0m\n\u001b[0m",
      "\u001b[1;31mTypeError\u001b[0m: __init__() missing 2 required positional arguments: 'num1' and 'num2'"
     ]
    }
   ],
   "source": [
    "Joker()"
   ]
  },
  {
   "cell_type": "code",
   "execution_count": 42,
   "metadata": {},
   "outputs": [],
   "source": [
    "class wang:\n",
    "    def __init__(self):\n",
    "        print('我初始化了')\n",
    "    def qihuoou(num):\n",
    "        if num % 2 ==0:\n",
    "            print('偶数')\n",
    "        else:\n",
    "            print('奇数')\n",
    "    def year(num1):\n",
    "        if num1 % 4 ==0:\n",
    "                  print('闰年')\n",
    "        else:\n",
    "                  print('平年')               "
   ]
  },
  {
   "cell_type": "code",
   "execution_count": 43,
   "metadata": {
    "scrolled": true
   },
   "outputs": [
    {
     "name": "stdout",
     "output_type": "stream",
     "text": [
      "我初始化了\n"
     ]
    },
    {
     "data": {
      "text/plain": [
       "<__main__.wang at 0x203514bde10>"
      ]
     },
     "execution_count": 43,
     "metadata": {},
     "output_type": "execute_result"
    }
   ],
   "source": [
    "wang()"
   ]
  },
  {
   "cell_type": "code",
   "execution_count": 44,
   "metadata": {},
   "outputs": [
    {
     "name": "stdout",
     "output_type": "stream",
     "text": [
      "奇数\n"
     ]
    }
   ],
   "source": [
    "wang.qihuoou(35)"
   ]
  },
  {
   "cell_type": "markdown",
   "metadata": {},
   "source": [
    "\n",
    "\n",
    "## 定义一个标准类\n",
    "- __init__ 代表初始化，可以初始化任何动作\n",
    "- 此时类调用要使用()，其中（）可以理解为开始初始化\n",
    "- 初始化内的元素，类中其他的函数可以共享\n",
    "![](../Photo/85.png)"
   ]
  },
  {
   "cell_type": "markdown",
   "metadata": {},
   "source": [
    "- Circle 和 className_ 的第一个区别有 __init__ 这个函数\n",
    "- 。。。。   第二个区别，类中的每一个函数都有self的这个“参数”"
   ]
  },
  {
   "cell_type": "markdown",
   "metadata": {},
   "source": [
    "## 何为self？\n",
    "- self 是指向对象本身的参数\n",
    "- self 只是一个命名规则，其实可以改变的，但是我们约定俗成的是self，也便于理解\n",
    "- 使用了self就可以访问类中定义的成员\n",
    "<img src=\"../Photo/86.png\"></img>"
   ]
  },
  {
   "cell_type": "markdown",
   "metadata": {},
   "source": [
    "## 使用类 Cirlcle"
   ]
  },
  {
   "cell_type": "markdown",
   "metadata": {},
   "source": [
    "## 类的传参\n",
    "- class ClassName:\n",
    "    \n",
    "        def __init__(self, para1,para2...)：\n",
    "            \n",
    "            self.para1 = para1\n",
    "            \n",
    "            self.para2 = para2"
   ]
  },
  {
   "cell_type": "markdown",
   "metadata": {},
   "source": [
    "## EP:\n",
    "- A：定义一个类，类中含有两个功能：\n",
    "    - 1、产生3个随机数，获取最大值\n",
    "    - 2、产生3个随机数，获取最小值\n",
    "- B：定义一个类，（类中函数的嵌套使用）\n",
    "    - 1、第一个函数的功能为：输入一个数字\n",
    "    - 2、第二个函数的功能为：使用第一个函数中得到的数字进行平方处理\n",
    "    - 3、第三个函数的功能为：得到平方处理后的数字 - 原来输入的数字，并打印结果"
   ]
  },
  {
   "cell_type": "code",
   "execution_count": 51,
   "metadata": {},
   "outputs": [],
   "source": [
    "import random\n",
    "class wang:\n",
    "    def __init__(self):\n",
    "        print('我初始化')\n",
    "    def max_(self):\n",
    "        a = random.randint(0,10)\n",
    "        b = random.randint(0,10)\n",
    "        c = random.randint(0,10)\n",
    "        print (a,b,c)\n",
    "    def min_(self):\n",
    "        a = random.randint(0,10)\n",
    "        b = random.randint(0,10)\n",
    "        c = random.randint(0,10)\n",
    "        print (a,b,c)\n",
    "        return min(a,b,c)"
   ]
  },
  {
   "cell_type": "code",
   "execution_count": 52,
   "metadata": {},
   "outputs": [
    {
     "name": "stdout",
     "output_type": "stream",
     "text": [
      "我初始化\n"
     ]
    }
   ],
   "source": [
    "a = wang()"
   ]
  },
  {
   "cell_type": "code",
   "execution_count": 53,
   "metadata": {},
   "outputs": [
    {
     "name": "stdout",
     "output_type": "stream",
     "text": [
      "4 7 3\n"
     ]
    }
   ],
   "source": [
    "a.max_()"
   ]
  },
  {
   "cell_type": "code",
   "execution_count": 104,
   "metadata": {},
   "outputs": [],
   "source": [
    "import random\n",
    "class wang:\n",
    "    def __init__(self):\n",
    "        pass\n",
    "    def shu(self):\n",
    "        a = eval(input('请输入一个数'))\n",
    "        print('这个数是',a)\n",
    "        return a\n",
    "    def pingfang(self):\n",
    "        a = self.shu()\n",
    "        b = a**2\n",
    "        print('这个数的平方是',b)\n",
    "        return b,a                                                                                                                                    \n",
    "    def chuli(self):\n",
    "        b,a = self.pingfang()\n",
    "        c=b-a\n",
    "        print('最后的数是',c)"
   ]
  },
  {
   "cell_type": "code",
   "execution_count": 105,
   "metadata": {},
   "outputs": [],
   "source": [
    "n=wang()"
   ]
  },
  {
   "cell_type": "code",
   "execution_count": 106,
   "metadata": {},
   "outputs": [
    {
     "name": "stdout",
     "output_type": "stream",
     "text": [
      "请输入一个数5\n",
      "这个数是 5\n",
      "这个数的平方是 25\n",
      "最后的数是 20\n"
     ]
    }
   ],
   "source": [
    "n.chuli()"
   ]
  },
  {
   "cell_type": "code",
   "execution_count": null,
   "metadata": {},
   "outputs": [],
   "source": [
    "import random"
   ]
  },
  {
   "cell_type": "code",
   "execution_count": null,
   "metadata": {},
   "outputs": [],
   "source": [
    "a = random.randint(0,9)\n",
    "b = random.randint(0,9)\n",
    "c = random.randint(0,9)\n",
    "d = random.randint(0,9)\n",
    "print(a,b,c,d)\n",
    "a1,b1,c1,d1 = eval(input('a,b,c,d'))\n",
    "\n",
    "while 1: \n",
    "    if (a,b,c,d)==(a1,b1,c1,d1):\n",
    "        print('验证码正确')\n",
    "        break\n",
    "    else:\n",
    "        a=random.randint(0,9)\n",
    "        b=random.randint(0,9)\n",
    "        c=random.randint(0,9)\n",
    "        d=random.randint(0,9)\n",
    "        print(a,b,c,d)\n",
    "        a1,b1,c1,d1 = eval(input('a,b,c,d')) \n",
    "         "
   ]
  },
  {
   "cell_type": "markdown",
   "metadata": {},
   "source": [
    "## 类的继承\n",
    "- 类的单继承\n",
    "- 类的多继承\n",
    "- 继承标识\n",
    ">  class SonClass(FatherClass):\n",
    "            \n",
    "            def __init__(self):\n",
    "            \n",
    "                FatherClass.__init__(self)"
   ]
  },
  {
   "cell_type": "markdown",
   "metadata": {},
   "source": [
    "## 私有数据域(私有变量，或者私有函数)\n",
    "- 在Python中 变量名或者函数名使用双下划线代表私有  \\__Joker,   def \\__Joker():\n",
    "- 私有数据域不可继承\n",
    "- 私有数据域强制继承   \\__dir__()"
   ]
  },
  {
   "cell_type": "markdown",
   "metadata": {},
   "source": [
    "![](../Photo/87.png)"
   ]
  },
  {
   "cell_type": "markdown",
   "metadata": {},
   "source": [
    "## EP:\n",
    "![](../Photo/88.png)\n",
    "![](../Photo/89.png)\n",
    "![](../Photo/90.png)\n"
   ]
  },
  {
   "cell_type": "markdown",
   "metadata": {},
   "source": [
    "## 类的其他\n",
    "- 类的封装\n",
    "    - 实际上就是将一类功能放在一起，方便未来进行管理\n",
    "- 类的继承（上面已经讲过）\n",
    "- 类的多态\n",
    "    - 包括装饰器：将放在以后处理高级类中教\n",
    "    - 装饰器的好处：当许多类中的函数需要使用同一个功能的时候，那么使用装饰器就会方便许多\n",
    "    - 装饰器是有固定的写法\n",
    "        - 其包括普通装饰器与带参装饰器"
   ]
  },
  {
   "cell_type": "markdown",
   "metadata": {},
   "source": [
    "# Homewor\n",
    "## UML类图可以不用画\n",
    "## UML 实际上就是一个思维图\n",
    "- 1\n",
    "![](../Photo/91.png)"
   ]
  },
  {
   "cell_type": "code",
   "execution_count": 23,
   "metadata": {},
   "outputs": [],
   "source": [
    "import random\n",
    "class Rectangle:\n",
    "    def __init__(self):\n",
    "        pass\n",
    "    def width(self):\n",
    "        a = eval(input('请输入一个数'))\n",
    "        print('图形宽为',a)\n",
    "        return a\n",
    "    def heightd(self):\n",
    "        b = eval(input('请输入一个数'))\n",
    "        print('图形高为',b)\n",
    "        return b\n",
    "    def getPerimete(self):\n",
    "        a = self.width()\n",
    "        b = self.heightd()\n",
    "        c = 2*a+2*b\n",
    "        print('周长为',c)\n",
    "        return c,b,a\n",
    "    def getArea(self):\n",
    "        a = self.width()\n",
    "        b = self.heightd()\n",
    "        s = a*b\n",
    "        print('面积是',s)\n",
    "        return s,b,a\n"
   ]
  },
  {
   "cell_type": "code",
   "execution_count": 24,
   "metadata": {},
   "outputs": [],
   "source": [
    "n=Rectangle()"
   ]
  },
  {
   "cell_type": "code",
   "execution_count": 25,
   "metadata": {},
   "outputs": [
    {
     "name": "stdout",
     "output_type": "stream",
     "text": [
      "请输入一个数4\n",
      "图形宽为 4\n",
      "请输入一个数40\n",
      "图形高为 40\n",
      "周长为 88\n"
     ]
    },
    {
     "data": {
      "text/plain": [
       "(88, 40, 4)"
      ]
     },
     "execution_count": 25,
     "metadata": {},
     "output_type": "execute_result"
    }
   ],
   "source": [
    "n.getPerimete()"
   ]
  },
  {
   "cell_type": "code",
   "execution_count": 26,
   "metadata": {},
   "outputs": [
    {
     "name": "stdout",
     "output_type": "stream",
     "text": [
      "请输入一个数4\n",
      "图形宽为 4\n",
      "请输入一个数40\n",
      "图形高为 40\n",
      "面积是 160\n"
     ]
    },
    {
     "data": {
      "text/plain": [
       "(160, 40, 4)"
      ]
     },
     "execution_count": 26,
     "metadata": {},
     "output_type": "execute_result"
    }
   ],
   "source": [
    "n.getArea()"
   ]
  },
  {
   "cell_type": "markdown",
   "metadata": {},
   "source": [
    "- 2\n",
    "![](../Photo/92.png)"
   ]
  },
  {
   "cell_type": "code",
   "execution_count": 35,
   "metadata": {},
   "outputs": [],
   "source": [
    "class Account:\n",
    "    def __init__(self):\n",
    "        self.__id=int(1122)#设立私有int数据域\n",
    "        self.__balance=float(20000)#设立私有浮点数据域\n",
    "        self.__annuallInterestRate=float(0.045)#设立私有浮点数据域储存当前利率\n",
    "    def id_(self):\n",
    "        self.id=eval(input('用户id:'))#用户id\n",
    "    def getMonthlyInterestRate(self):\n",
    "        x=float(self.__annuallInterestRate/12)#根据已知的年利率计算月利率\n",
    "        print('月利率为：',x)\n",
    "    def getMonthlyInterest(self):\n",
    "        y=self.__balance*float(self.__annuallInterestRate/12)#根据已知年利率，本金，计算月利息\n",
    "        print('月利息为：',y)\n",
    "    def withdraw(self):\n",
    "        self.w=eval(input('取钱金额'))\n",
    "    def deposit(self):\n",
    "        self.d=eval(input('存入金额'))\n",
    "    def balance(self):\n",
    "        b=float(self.__balance-self.w+self.d)#计算余额\n",
    "        print('余额为',b)\n",
    "    def zuihou(self):\n",
    "        self.id_()\n",
    "        self.getMonthlyInterestRate()\n",
    "        self.getMonthlyInterest()\n",
    "        self.withdraw()\n",
    "        self.deposit()\n",
    "        self.balance() "
   ]
  },
  {
   "cell_type": "code",
   "execution_count": 36,
   "metadata": {},
   "outputs": [],
   "source": [
    "n=Account()"
   ]
  },
  {
   "cell_type": "code",
   "execution_count": 37,
   "metadata": {},
   "outputs": [
    {
     "name": "stdout",
     "output_type": "stream",
     "text": [
      "用户id:1122\n",
      "月利率为： 0.00375\n",
      "月利息为： 75.0\n",
      "取钱金额2500\n",
      "存入金额3000\n",
      "余额为 20500.0\n"
     ]
    }
   ],
   "source": [
    "n.zuihou()"
   ]
  },
  {
   "cell_type": "markdown",
   "metadata": {},
   "source": [
    "- 3\n",
    "![](../Photo/93.png)"
   ]
  },
  {
   "cell_type": "code",
   "execution_count": 1,
   "metadata": {},
   "outputs": [],
   "source": [
    "class Fan:\n",
    "    def __init__(self):\n",
    "        self.__speed=int(1)#设定私有型整形数据域\n",
    "        self.__on='False'#设定布尔数据域\n",
    "        self.__radius=float(5)#设定私有浮点数据域\n",
    "        self.__color=str('color')#设立私有字符串数据域\n",
    "    def fengshan1(self):\n",
    "        self.__speed1=int(3)#给风扇速度赋值\n",
    "        self.__on1='open'#赋值风扇是否是打开状态\n",
    "        self.__radius1=float(10)#给风扇半径赋值\n",
    "        self.__color1=str('yellow')#表明风扇颜色\n",
    "        print('速度：',self.__speed1)\n",
    "        print('状态：',self.__on1)\n",
    "        print('半径：',self.__radius1)\n",
    "        print('颜色：',self.__color1)\n",
    "    def fengshan2(self):\n",
    "        self.__speed2=int(3)#给风扇速度赋值\n",
    "        print('速度：',self.__speed2)#以下均为无需赋值的默认值\n",
    "        print('状态：',self.__on)\n",
    "        print('半径：',self.__radius)\n",
    "        print('颜色：',self.__color)"
   ]
  },
  {
   "cell_type": "code",
   "execution_count": 2,
   "metadata": {},
   "outputs": [],
   "source": [
    "n=Fan()"
   ]
  },
  {
   "cell_type": "code",
   "execution_count": 3,
   "metadata": {},
   "outputs": [
    {
     "name": "stdout",
     "output_type": "stream",
     "text": [
      "速度： 3\n",
      "状态： open\n",
      "半径： 10.0\n",
      "颜色： yellow\n"
     ]
    }
   ],
   "source": [
    "n.fengshan1()"
   ]
  },
  {
   "cell_type": "code",
   "execution_count": 66,
   "metadata": {},
   "outputs": [
    {
     "name": "stdout",
     "output_type": "stream",
     "text": [
      "速度： 3\n"
     ]
    },
    {
     "ename": "AttributeError",
     "evalue": "'Fan' object has no attribute '_Fan__on'",
     "output_type": "error",
     "traceback": [
      "\u001b[1;31m---------------------------------------------------------------------------\u001b[0m",
      "\u001b[1;31mAttributeError\u001b[0m                            Traceback (most recent call last)",
      "\u001b[1;32m<ipython-input-66-91c652b6e753>\u001b[0m in \u001b[0;36m<module>\u001b[1;34m\u001b[0m\n\u001b[1;32m----> 1\u001b[1;33m \u001b[0mn\u001b[0m\u001b[1;33m.\u001b[0m\u001b[0mfengshan2\u001b[0m\u001b[1;33m(\u001b[0m\u001b[1;33m)\u001b[0m\u001b[1;33m\u001b[0m\u001b[1;33m\u001b[0m\u001b[0m\n\u001b[0m",
      "\u001b[1;32m<ipython-input-63-ea50c6be3c32>\u001b[0m in \u001b[0;36mfengshan2\u001b[1;34m(self)\u001b[0m\n\u001b[0;32m     17\u001b[0m         \u001b[0mself\u001b[0m\u001b[1;33m.\u001b[0m\u001b[0m__speed2\u001b[0m\u001b[1;33m=\u001b[0m\u001b[0mint\u001b[0m\u001b[1;33m(\u001b[0m\u001b[1;36m3\u001b[0m\u001b[1;33m)\u001b[0m\u001b[1;31m#给风扇速度赋值\u001b[0m\u001b[1;33m\u001b[0m\u001b[1;33m\u001b[0m\u001b[0m\n\u001b[0;32m     18\u001b[0m         \u001b[0mprint\u001b[0m\u001b[1;33m(\u001b[0m\u001b[1;34m'速度：'\u001b[0m\u001b[1;33m,\u001b[0m\u001b[0mself\u001b[0m\u001b[1;33m.\u001b[0m\u001b[0m__speed2\u001b[0m\u001b[1;33m)\u001b[0m\u001b[1;31m#以下均为无需赋值的默认值\u001b[0m\u001b[1;33m\u001b[0m\u001b[1;33m\u001b[0m\u001b[0m\n\u001b[1;32m---> 19\u001b[1;33m         \u001b[0mprint\u001b[0m\u001b[1;33m(\u001b[0m\u001b[1;34m'状态：'\u001b[0m\u001b[1;33m,\u001b[0m\u001b[0mself\u001b[0m\u001b[1;33m.\u001b[0m\u001b[0m__on\u001b[0m\u001b[1;33m)\u001b[0m\u001b[1;33m\u001b[0m\u001b[1;33m\u001b[0m\u001b[0m\n\u001b[0m\u001b[0;32m     20\u001b[0m         \u001b[0mprint\u001b[0m\u001b[1;33m(\u001b[0m\u001b[1;34m'半径：'\u001b[0m\u001b[1;33m,\u001b[0m\u001b[0mself\u001b[0m\u001b[1;33m.\u001b[0m\u001b[0m__radius\u001b[0m\u001b[1;33m)\u001b[0m\u001b[1;33m\u001b[0m\u001b[1;33m\u001b[0m\u001b[0m\n\u001b[0;32m     21\u001b[0m         \u001b[0mprint\u001b[0m\u001b[1;33m(\u001b[0m\u001b[1;34m'颜色：'\u001b[0m\u001b[1;33m,\u001b[0m\u001b[0mself\u001b[0m\u001b[1;33m.\u001b[0m\u001b[0m__color\u001b[0m\u001b[1;33m)\u001b[0m\u001b[1;33m\u001b[0m\u001b[1;33m\u001b[0m\u001b[0m\n",
      "\u001b[1;31mAttributeError\u001b[0m: 'Fan' object has no attribute '_Fan__on'"
     ]
    }
   ],
   "source": [
    "n.fengshan2()"
   ]
  },
  {
   "cell_type": "markdown",
   "metadata": {},
   "source": [
    "- 4\n",
    "![](../Photo/94.png)\n",
    "![](../Photo/95.png)"
   ]
  },
  {
   "cell_type": "markdown",
   "metadata": {},
   "source": [
    "- 5\n",
    "![](../Photo/96.png)"
   ]
  },
  {
   "cell_type": "code",
   "execution_count": 73,
   "metadata": {},
   "outputs": [],
   "source": [
    "class LinearEquation:\n",
    "    def __init__(self):\n",
    "        print('方程式为：ax+by = e')#方程形式\n",
    "        print('方程式为：cx+dy = f')#方程形式\n",
    "    def get(self):\n",
    "        a = eval(input('请输入a为：'))#输入值\n",
    "        b = eval(input('请输入b为：'))#输入值\n",
    "        c = eval(input('请输入c为：'))#输入值\n",
    "        d = eval(input('请输入d为：'))#输入值\n",
    "        e = eval(input('请输入e为：'))#输入值\n",
    "        f = eval(input('请输入f为：'))#输入值\n",
    "        x = (d*e-b*f)/(a*d-b*c)#  计算\n",
    "        y = (a*f-e*c)/(a*d-b*c)#计算\n",
    "        if a*d-b*c==0:#判断\n",
    "            print('无解')\n",
    "        else:\n",
    "            print('解为','x-',x,'y=',y)        "
   ]
  },
  {
   "cell_type": "code",
   "execution_count": 74,
   "metadata": {},
   "outputs": [],
   "source": [
    "n=LinearEquation()"
   ]
  },
  {
   "cell_type": "code",
   "execution_count": 75,
   "metadata": {},
   "outputs": [
    {
     "name": "stdout",
     "output_type": "stream",
     "text": [
      "请输入a为：1\n",
      "请输入b为：3\n",
      "请输入c为：4\n",
      "请输入d为：3\n",
      "请输入e为：2\n",
      "请输入f为：4\n",
      "解为 x- 0.6666666666666666 y= 0.4444444444444444\n"
     ]
    }
   ],
   "source": [
    "n.get()"
   ]
  },
  {
   "cell_type": "markdown",
   "metadata": {},
   "source": [
    "- 6\n",
    "![](../Photo/97.png)"
   ]
  },
  {
   "cell_type": "code",
   "execution_count": 11,
   "metadata": {},
   "outputs": [],
   "source": [
    "class LinearEquation:\n",
    "    def __init__(self):\n",
    "        pass\n",
    "    def diyitiao(self):\n",
    "        x1=eval(input('请输入横坐标'))\n",
    "        y1=eval(input('请输入纵坐标'))\n",
    "        print('该点坐标为:',x1,y1)\n",
    "        x2=eval(input('请输入横坐标'))\n",
    "        y2=eval(input('请输入纵坐标'))\n",
    "        print('该点坐标为:',x2,y2)\n",
    "        self.k1=(y2-y1)/(x2-x1)#第一条线段斜率\n",
    "        self.b1=((y1+y2)-self.k1*(x1+x2))/2#第一条直线的截距\n",
    "        print('第一条线段的函数y=',self.k1,'x+',self.b1)#第一条直线的函数\n",
    "    def diertiao(self):\n",
    "        x3=eval(input('请输入横坐标'))\n",
    "        y3=eval(input('请输入纵坐标'))\n",
    "        print('该点坐标为:',x3,y3)\n",
    "        x4=eval(input('请输入横坐标'))\n",
    "        y4=eval(input('请输入纵坐标'))\n",
    "        print('该点坐标为:',x4,y4)\n",
    "        self.k2=(y4-y3)/(x4-x3)#第二条线段斜率\n",
    "        self.b2=((y3+y4)-self.k2*(x3+x4))/2#第二直线的截距\n",
    "        print('第一条线段的函数y=',self.k2,'x+',self.b2)#第二条直线的函数\n",
    "    def jiaodiao(self):\n",
    "        x=(self.b2-self.b1)/(self.k1-self.k2)#联立方程组，求出两个交点坐标的横坐标\n",
    "        y=self.k1*x+self.b1#将横坐标带入第一条直线方程计算y点\n",
    "        print('交点坐标为',(x,y))\n",
    "    def zuihou(self):\n",
    "        self.diyitiao()\n",
    "        self.diertiao()\n",
    "        self.jiaodiao()    "
   ]
  },
  {
   "cell_type": "code",
   "execution_count": 12,
   "metadata": {},
   "outputs": [],
   "source": [
    "n= LinearEquation()"
   ]
  },
  {
   "cell_type": "code",
   "execution_count": 13,
   "metadata": {},
   "outputs": [
    {
     "name": "stdout",
     "output_type": "stream",
     "text": [
      "请输入横坐标2\n",
      "请输入纵坐标2\n",
      "该点坐标为: 2 2\n",
      "请输入横坐标0\n",
      "请输入纵坐标0\n",
      "该点坐标为: 0 0\n",
      "第一条线段的函数y= 1.0 x+ 0.0\n",
      "请输入横坐标0\n",
      "请输入纵坐标2\n",
      "该点坐标为: 0 2\n",
      "请输入横坐标2\n",
      "请输入纵坐标0\n",
      "该点坐标为: 2 0\n",
      "第一条线段的函数y= -1.0 x+ 2.0\n",
      "交点坐标为 (1.0, 1.0)\n"
     ]
    }
   ],
   "source": [
    "n.zuihou()"
   ]
  },
  {
   "cell_type": "markdown",
   "metadata": {},
   "source": [
    "- 7\n",
    "![](../Photo/98.png)"
   ]
  }
 ],
 "metadata": {
  "kernelspec": {
   "display_name": "Python 3",
   "language": "python",
   "name": "python3"
  },
  "language_info": {
   "codemirror_mode": {
    "name": "ipython",
    "version": 3
   },
   "file_extension": ".py",
   "mimetype": "text/x-python",
   "name": "python",
   "nbconvert_exporter": "python",
   "pygments_lexer": "ipython3",
   "version": "3.7.3"
  }
 },
 "nbformat": 4,
 "nbformat_minor": 2
}
